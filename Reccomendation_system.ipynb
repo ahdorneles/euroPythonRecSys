{
 "cells": [
  {
   "cell_type": "markdown",
   "metadata": {},
   "source": [
    "# 1. Getting Data"
   ]
  },
  {
   "cell_type": "code",
   "execution_count": 372,
   "metadata": {},
   "outputs": [],
   "source": [
    "import pandas as pd"
   ]
  },
  {
   "cell_type": "markdown",
   "metadata": {},
   "source": [
    "accessing my score for the Lord of the Rings"
   ]
  },
  {
   "cell_type": "code",
   "execution_count": 391,
   "metadata": {},
   "outputs": [],
   "source": [
    "df = pd.read_csv('recommendation_data.csv')"
   ]
  },
  {
   "cell_type": "code",
   "execution_count": 392,
   "metadata": {},
   "outputs": [
    {
     "data": {
      "text/html": [
       "<div>\n",
       "<style scoped>\n",
       "    .dataframe tbody tr th:only-of-type {\n",
       "        vertical-align: middle;\n",
       "    }\n",
       "\n",
       "    .dataframe tbody tr th {\n",
       "        vertical-align: top;\n",
       "    }\n",
       "\n",
       "    .dataframe thead th {\n",
       "        text-align: right;\n",
       "    }\n",
       "</style>\n",
       "<table border=\"1\" class=\"dataframe\">\n",
       "  <thead>\n",
       "    <tr style=\"text-align: right;\">\n",
       "      <th></th>\n",
       "      <th>USER</th>\n",
       "      <th>The Devil wears Prada</th>\n",
       "      <th>The Wolf of Wall Street</th>\n",
       "      <th>Cool Runnings</th>\n",
       "      <th>The Lord of the Rings</th>\n",
       "      <th>Baby Driver</th>\n",
       "    </tr>\n",
       "  </thead>\n",
       "  <tbody>\n",
       "    <tr>\n",
       "      <th>0</th>\n",
       "      <td>ADRIANA</td>\n",
       "      <td>3.0</td>\n",
       "      <td>4.0</td>\n",
       "      <td>NaN</td>\n",
       "      <td>2.0</td>\n",
       "      <td>NaN</td>\n",
       "    </tr>\n",
       "    <tr>\n",
       "      <th>1</th>\n",
       "      <td>DANI</td>\n",
       "      <td>4.0</td>\n",
       "      <td>NaN</td>\n",
       "      <td>NaN</td>\n",
       "      <td>3.0</td>\n",
       "      <td>4.0</td>\n",
       "    </tr>\n",
       "    <tr>\n",
       "      <th>2</th>\n",
       "      <td>HENRY</td>\n",
       "      <td>5.0</td>\n",
       "      <td>5.0</td>\n",
       "      <td>4.0</td>\n",
       "      <td>4.0</td>\n",
       "      <td>NaN</td>\n",
       "    </tr>\n",
       "    <tr>\n",
       "      <th>3</th>\n",
       "      <td>MARTA</td>\n",
       "      <td>3.0</td>\n",
       "      <td>3.0</td>\n",
       "      <td>4.0</td>\n",
       "      <td>3.0</td>\n",
       "      <td>4.0</td>\n",
       "    </tr>\n",
       "    <tr>\n",
       "      <th>4</th>\n",
       "      <td>PHILIP</td>\n",
       "      <td>3.0</td>\n",
       "      <td>4.5</td>\n",
       "      <td>4.0</td>\n",
       "      <td>4.5</td>\n",
       "      <td>4.0</td>\n",
       "    </tr>\n",
       "    <tr>\n",
       "      <th>5</th>\n",
       "      <td>OTA</td>\n",
       "      <td>2.5</td>\n",
       "      <td>3.5</td>\n",
       "      <td>3.0</td>\n",
       "      <td>NaN</td>\n",
       "      <td>4.5</td>\n",
       "    </tr>\n",
       "  </tbody>\n",
       "</table>\n",
       "</div>"
      ],
      "text/plain": [
       "      USER  The Devil wears Prada  The Wolf of Wall Street  Cool Runnings  \\\n",
       "0  ADRIANA                    3.0                      4.0            NaN   \n",
       "1     DANI                    4.0                      NaN            NaN   \n",
       "2    HENRY                    5.0                      5.0            4.0   \n",
       "3    MARTA                    3.0                      3.0            4.0   \n",
       "4   PHILIP                    3.0                      4.5            4.0   \n",
       "5      OTA                    2.5                      3.5            3.0   \n",
       "\n",
       "   The Lord of the Rings  Baby Driver  \n",
       "0                    2.0          NaN  \n",
       "1                    3.0          4.0  \n",
       "2                    4.0          NaN  \n",
       "3                    3.0          4.0  \n",
       "4                    4.5          4.0  \n",
       "5                    NaN          4.5  "
      ]
     },
     "execution_count": 392,
     "metadata": {},
     "output_type": "execute_result"
    }
   ],
   "source": [
    "df.head(6)"
   ]
  },
  {
   "cell_type": "markdown",
   "metadata": {},
   "source": [
    "# 2. Calc the Similarity"
   ]
  },
  {
   "cell_type": "code",
   "execution_count": 364,
   "metadata": {},
   "outputs": [],
   "source": [
    "import matplotlib.pyplot as plt"
   ]
  },
  {
   "cell_type": "markdown",
   "metadata": {},
   "source": [
    "First, lets check the data dispersion for an example of 2d with 'The Devil wears Prada' and 'The Wolf of Wall Street' movies"
   ]
  },
  {
   "cell_type": "code",
   "execution_count": 437,
   "metadata": {},
   "outputs": [],
   "source": [
    "%matplotlib inline"
   ]
  },
  {
   "cell_type": "code",
   "execution_count": 438,
   "metadata": {},
   "outputs": [
    {
     "data": {
      "image/png": "[encoded data removed]",
      "text/plain": [
       "<Figure size 432x288 with 1 Axes>"
      ]
     },
     "metadata": {
      "needs_background": "light"
     },
     "output_type": "display_data"
    }
   ],
   "source": [
    "plot = df.plot.scatter(x = 'The Devil wears Prada', y = 'The Wolf of Wall Street', color = ['r','b','g','orange','y'], grid= True)"
   ]
  },
  {
   "cell_type": "code",
   "execution_count": 436,
   "metadata": {},
   "outputs": [],
   "source": [
    "#importing the database\n",
    "\n",
    "score = reccomendation.score"
   ]
  },
  {
   "cell_type": "code",
   "execution_count": 426,
   "metadata": {},
   "outputs": [],
   "source": [
    "#building a function for the euclidian distance\n",
    "\n",
    "def euclidian_distance(database, user1, user2):\n",
    "    si = {}\n",
    "    for item in database[user1]:\n",
    "        if item in database[user2]: si[item] = 1\n",
    "\n",
    "    if len(si) == 0: return 0\n",
    "\n",
    "    sum_for_pow = sum([pow(database[user1][item] - database[user2][item], 2)\n",
    "                for item in database[user1] if item in database[user2]])\n",
    "    return 1/(1 + sqrt(sum))"
   ]
  },
  {
   "cell_type": "code",
   "execution_count": 427,
   "metadata": {},
   "outputs": [],
   "source": [
    "#building a function for checking the similarity\n",
    "\n",
    "def getSimilar(database, user):\n",
    "    similarity = [(euclidiana(database, user, other), other)\n",
    "                    for other in database if other != user]\n",
    "    similarity.sort()\n",
    "    similarity.reverse()\n",
    "    return similarity[0:5]"
   ]
  },
  {
   "cell_type": "markdown",
   "metadata": {},
   "source": [
    "# 3. Getting the prediction in order to recommend a movie"
   ]
  },
  {
   "cell_type": "code",
   "execution_count": 428,
   "metadata": {},
   "outputs": [],
   "source": [
    "#building a function for getting the recommendation\n",
    "\n",
    "def getRecommendation(database, user):\n",
    "    totais={}\n",
    "    sumSimilarity={}\n",
    "    for other in database:\n",
    "        if other == user: continue\n",
    "        similarity = euclidiana(database, user, other)\n",
    "\n",
    "        if similarity <= 0: continue\n",
    "\n",
    "        for item in database[other]:\n",
    "            if item not in database[user]:\n",
    "                print(totais)\n",
    "                totais.setdefault(item, 0)\n",
    "                totais[item] += database[other][item] * similarity\n",
    "                sumSimilarity.setdefault(item, 0)\n",
    "                sumSimilarity[item] += similarity\n",
    "    rankings=[(total / sumSimilarity[item], item) for item, total in totais.items()]\n",
    "    rankings.sort()\n",
    "    rankings.reverse()\n",
    "    return rankings[0:30]"
   ]
  },
  {
   "cell_type": "code",
   "execution_count": 430,
   "metadata": {},
   "outputs": [
    {
     "data": {
      "text/plain": [
       "[(0.585786437626905, 'Ota'),\n",
       " (0.4142135623730951, 'Marta'),\n",
       " (0.4142135623730951, 'Dani'),\n",
       " (0.28172904669025317, 'Philip'),\n",
       " (0.25, 'Henry')]"
      ]
     },
     "execution_count": 430,
     "metadata": {},
     "output_type": "execute_result"
    }
   ],
   "source": [
    "getSimilar(score, 'Adriana')"
   ]
  },
  {
   "cell_type": "code",
   "execution_count": 435,
   "metadata": {},
   "outputs": [
    {
     "name": "stdout",
     "output_type": "stream",
     "text": [
      "{}\n",
      "{'Cool Runnings': 1.7573593128807148}\n",
      "{'Cool Runnings': 1.7573593128807148, 'Baby Driver': 2.6360389693210724}\n",
      "{'Cool Runnings': 1.7573593128807148, 'Baby Driver': 4.292893218813453}\n",
      "{'Cool Runnings': 2.757359312880715, 'Baby Driver': 4.292893218813453}\n",
      "{'Cool Runnings': 4.414213562373095, 'Baby Driver': 4.292893218813453}\n",
      "{'Cool Runnings': 4.414213562373095, 'Baby Driver': 5.535533905932738}\n",
      "{'Cool Runnings': 5.541129749134107, 'Baby Driver': 5.535533905932738}\n"
     ]
    },
    {
     "data": {
      "text/plain": [
       "[(3.9284643578672473, 'Baby Driver'), (3.6175652352531493, 'Cool Runnings')]"
      ]
     },
     "execution_count": 435,
     "metadata": {},
     "output_type": "execute_result"
    }
   ],
   "source": [
    "getRecommendation(score, 'Adriana')"
   ]
  }
 ],
 "metadata": {
  "kernelspec": {
   "display_name": "Python 3",
   "language": "python",
   "name": "python3"
  },
  "language_info": {
   "codemirror_mode": {
    "name": "ipython",
    "version": 2
   },
   "file_extension": ".py",
   "mimetype": "text/x-python",
   "name": "python",
   "nbconvert_exporter": "python",
   "pygments_lexer": "ipython2",
   "version": "2.7.15"
  }
 },
 "nbformat": 4,
 "nbformat_minor": 2
}
